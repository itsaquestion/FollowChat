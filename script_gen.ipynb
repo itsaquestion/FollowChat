{
 "cells": [
  {
   "cell_type": "code",
   "execution_count": 2,
   "metadata": {},
   "outputs": [],
   "source": [
    "import os\n",
    "from dotenv import load_dotenv\n",
    "\n",
    "load_dotenv()\n",
    "\n",
    "import openai\n",
    "openai.api_key = os.environ[\"OR_KEY\"]\n",
    "openai.api_base = \"https://openrouter.ai/api/v1\""
   ]
  },
  {
   "cell_type": "code",
   "execution_count": 37,
   "metadata": {},
   "outputs": [
    {
     "name": "stdout",
     "output_type": "stream",
     "text": [
      " Here is a summary of your requirements:\n",
      "\n",
      "- Setting: coffee shop\n",
      "- Topic: making an order, with a complaint\n",
      "- Characters: Guy (male), Aria (female), Jenny (female, narrator)  \n",
      "- Level: IELTS 6-7, use some complex grammar like tenses and clauses\n",
      "- Sentence length: max 15 words per sentence, but can have multiple sentences per turn\n",
      "- Length: around 15 exchanges \n",
      "- Style: natural daily conversation, avoid slang, use common English expressions\n",
      "- Other: some tangents are okay to simulate real conversation\n",
      "- Format: Jenny introduces in 1-2 sentences. Dialogue for other characters. No quotes. I generate directly.\n",
      "- Avoid 3rd person besides Jenny's narration.\n",
      "\n",
      "####\n",
      "\n",
      "Jenny:: Guy goes to a coffee shop and orders a drink from Aria. However, there is a problem with his order.\n",
      "\n",
      "Guy:: Excuse me, I'd like to order a medium caramel latte with whipped cream, please. \n",
      "\n",
      "Aria:: No problem, that'll be $4.50. I'll have that right out. \n",
      "\n",
      "Guy:: Thank you. I'm running late"
     ]
    }
   ],
   "source": [
    "system_msg = '你是我的英语老师，你会和我讨论英语的学习，并且为我生成英语学习的材料。'\n",
    "\n",
    "# Define the user message\n",
    "user_msg = \"\"\"\n",
    "请设计一段英语对话，便于我进行英语口语的练习，有如下要求:\n",
    "\n",
    "对话的内容的要求是：地点：咖啡店，主题：订单；对话类型：投诉\n",
    "\n",
    "1: 对话角色: 男性Guy，女性Aria。旁白角色:女性Jenny。\n",
    "2: 对话难度：雅思6-7分水平，具有一定的英语语法，如时态，语态，从句等等，便于我练习。\n",
    "3: 句子长度: 每句话不超过15个单词，便于我朗读。但每个人每次说话可以超过一句，以表达完整的意思。\n",
    "4. 对话数量：15段左右。\n",
    "5. 风格：模拟真实的日常对话，要口语化，但是不要过多俚语，使用英语世界通行的说法。\n",
    "6. 其他：模拟日常对话，因此可以适当跑题。对话生成名字在前，接两个冒号::，不要有引号。不要使用代码生成器，你直接生成对话。\n",
    "7. 格式: 第一话是Jenny进行旁白，用1、2句话说出这次对话的大致内容。后面是对话角色的对话。避免第三人出现，但假如有第三人出现，由Jenny充当，同样是Jenny名字后加入::。\n",
    "\n",
    "请你按如下步骤进行：\n",
    "\n",
    "1. 总结我的上述要求设计，重点是雅思6-7分水平，要有一些语法结构。显示总结。\n",
    "2. 使用####作为分隔符，然后按要求输出你设计好的对话。\n",
    "3. 对话后不要加入任何内容，使得我用####切分后，最后一部分就是单纯的对话。\n",
    "\n",
    "\"\"\"\n",
    "\n",
    "response = openai.ChatCompletion.create(model=\"anthropic/claude-2\",\n",
    "                                        messages=[{\"role\": \"system\", \"content\": system_msg},\n",
    "                                                {\"role\": \"user\", \"content\": user_msg}],\n",
    "                                        headers={\"HTTP-Referer\": 'https://py4ss.net',  # To identify your app\n",
    "                                                \"X-Title\": 'followchat'},\n",
    "                                        max_tokens = 256,\n",
    "                                        stream=True,temperature=0.7)\n",
    "collected_messages = []\n",
    "for chunk in response:\n",
    "    content = chunk[\"choices\"][0].get(\"delta\", {}).get(\"content\")\n",
    "    if content is not None:\n",
    "        collected_messages.append(content)\n",
    "        print(content, end='',flush=True)\n",
    "\n",
    "full_message = ''.join(collected_messages)\n"
   ]
  },
  {
   "cell_type": "code",
   "execution_count": 36,
   "metadata": {},
   "outputs": [
    {
     "ename": "TypeError",
     "evalue": "'generator' object is not subscriptable",
     "output_type": "error",
     "traceback": [
      "\u001b[1;31m---------------------------------------------------------------------------\u001b[0m",
      "\u001b[1;31mTypeError\u001b[0m                                 Traceback (most recent call last)",
      "Cell \u001b[1;32mIn[36], line 1\u001b[0m\n\u001b[1;32m----> 1\u001b[0m text \u001b[39m=\u001b[39m response[\u001b[39m\"\u001b[39;49m\u001b[39mchoices\u001b[39;49m\u001b[39m\"\u001b[39;49m][\u001b[39m0\u001b[39m][\u001b[39m\"\u001b[39m\u001b[39mmessage\u001b[39m\u001b[39m\"\u001b[39m][\u001b[39m\"\u001b[39m\u001b[39mcontent\u001b[39m\u001b[39m\"\u001b[39m]\u001b[39m.\u001b[39mstrip()\n\u001b[0;32m      2\u001b[0m \u001b[39mprint\u001b[39m(text)\n",
      "\u001b[1;31mTypeError\u001b[0m: 'generator' object is not subscriptable"
     ]
    }
   ],
   "source": []
  },
  {
   "cell_type": "code",
   "execution_count": 31,
   "metadata": {},
   "outputs": [
    {
     "data": {
      "text/plain": [
       "['Here is the summary of your requirements:\\n\\nThe dialogue will be set in a cafe with the theme of a complaint about an order. It will be between two characters - Guy (male) and Aria (female). There will be a narrator named Jenny who introduces the dialogue. \\n\\nThe level will be IELTS 6-7 band score, with good grammar structures like tenses, voices, clauses etc. Sentences will be around 15 words to help practice spoken English. \\n\\nThere will be around 15 exchanges. The style will be natural daily conversation but avoiding too much slang and using standard English. As a real conversation, some digression is fine.\\n\\nNames will be before each turn followed by :: without quote marks. The dialogue will be generated directly without using any code generators. The format will be an introduction by Jenny, then exchanges between Guy and Aria. If Jenny speaks again, her name and :: will be used again.\\n\\nThere will be no inappropriate sexual content or constraint mentions.\\n\\n',\n",
       " \"\\n\\nJenny: Guy complains to Aria about an incorrect coffee order at a cafe.\\n\\nGuy:: Excuse me, I think there's been a mistake with my order. I asked for a soy latte but this seems to be regular milk.\\n\\nAria:: Oh I'm so sorry about that, sir. Can I see your receipt to confirm your order?\\n\\nGuy:: Sure, here's my receipt. As you can see, I clearly ordered a soy latte but this has regular milk in it. I'm lactose intolerant so unfortunately I can't drink this. \\n\\nAria:: You're absolutely right, I sincerely apologize. Let me replace this with a soy latte right away. Is there anything else I can get for you?\\n\\nGuy:: Well, since you're offering, I'll also take a chocolate croissant to go with the new soy latte. I don't mean to cause trouble but I was really looking forward to my coffee break.\\n\\nAria:: No trouble at all, sir! I'm very sorry for the mistake. I'll go put those orders in for you now. Please let me know if you need anything else.\\n\\nGuy:: Thank you, I appreciate you fixing this. Mistakes happen sometimes. As long as you make it right, we're good.\\n\\nAria:: Of course, sir. I'm glad I could resolve the issue. Enjoy your soy latte and croissant! Just flag me down if you need a refill or have any other questions.\\n\\nGuy:: Sounds good, thanks again!\\n\\n\",\n",
       " '']"
      ]
     },
     "execution_count": 31,
     "metadata": {},
     "output_type": "execute_result"
    }
   ],
   "source": [
    "text.split(\"####\")"
   ]
  },
  {
   "cell_type": "code",
   "execution_count": 38,
   "metadata": {},
   "outputs": [
    {
     "name": "stdout",
     "output_type": "stream",
     "text": [
      "Jenny:: Guy goes to a coffee shop and orders a drink from Aria. However, there is a problem with his order.\n",
      "\n",
      "Guy:: Excuse me, I'd like to order a medium caramel latte with whipped cream, please. \n",
      "\n",
      "Aria:: No problem, that'll be $4.50. I'll have that right out. \n",
      "\n",
      "Guy:: Thank you. I'm running late\n"
     ]
    }
   ],
   "source": [
    "def find_string_with_most_colons(strings):\n",
    "    max_colon_count = 0\n",
    "    max_colon_string = \"\"\n",
    "\n",
    "    for string in strings:\n",
    "        colon_count = string.count(\"::\")\n",
    "        if colon_count > max_colon_count:\n",
    "            max_colon_count = colon_count\n",
    "            max_colon_string = string\n",
    "\n",
    "    return max_colon_string\n",
    "\n",
    "result = find_string_with_most_colons(full_message.split(\"####\")).strip()\n",
    "print(result)"
   ]
  },
  {
   "cell_type": "code",
   "execution_count": null,
   "metadata": {},
   "outputs": [],
   "source": []
  }
 ],
 "metadata": {
  "kernelspec": {
   "display_name": "followchat",
   "language": "python",
   "name": "python3"
  },
  "language_info": {
   "codemirror_mode": {
    "name": "ipython",
    "version": 3
   },
   "file_extension": ".py",
   "mimetype": "text/x-python",
   "name": "python",
   "nbconvert_exporter": "python",
   "pygments_lexer": "ipython3",
   "version": "3.10.12"
  },
  "orig_nbformat": 4
 },
 "nbformat": 4,
 "nbformat_minor": 2
}
